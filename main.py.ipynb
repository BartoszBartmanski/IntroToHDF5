{
 "cells": [
  {
   "cell_type": "markdown",
   "id": "gorgeous-palace",
   "metadata": {},
   "source": [
    "Documentation on h5py [here](https://docs.h5py.org/en/stable/quick.html)"
   ]
  },
  {
   "cell_type": "code",
   "execution_count": null,
   "id": "working-stations",
   "metadata": {},
   "outputs": [],
   "source": [
    "import h5py\n",
    "import numpy as np\n",
    "from os import path"
   ]
  },
  {
   "cell_type": "code",
   "execution_count": null,
   "id": "sound-murder",
   "metadata": {},
   "outputs": [],
   "source": [
    "fname = \"test_h5py.h5\""
   ]
  },
  {
   "cell_type": "markdown",
   "id": "interior-pharmacology",
   "metadata": {},
   "source": [
    "Writing to a file"
   ]
  },
  {
   "cell_type": "code",
   "execution_count": null,
   "id": "precise-message",
   "metadata": {},
   "outputs": [],
   "source": [
    "with h5py.File(fname, \"w\") as fh:\n",
    "    dset = fh.create_dataset(\"mydataset\", (100,), dtype='i')"
   ]
  },
  {
   "cell_type": "markdown",
   "id": "serious-maryland",
   "metadata": {},
   "source": [
    "Reading from a file"
   ]
  },
  {
   "cell_type": "code",
   "execution_count": null,
   "id": "limiting-solomon",
   "metadata": {},
   "outputs": [],
   "source": [
    "with h5py.File(fname, \"r\") as fh:\n",
    "    print(fh[\"mydataset\"][:])"
   ]
  },
  {
   "cell_type": "markdown",
   "id": "decimal-first",
   "metadata": {},
   "source": [
    "Reading data written by R rhdf5 package (if it exists)"
   ]
  },
  {
   "cell_type": "code",
   "execution_count": null,
   "id": "decimal-maple",
   "metadata": {},
   "outputs": [],
   "source": [
    "fname = \"test_rhdf5.h5\"\n",
    "if path.isfile(fname):\n",
    "    with h5py.File(fname) as fh:\n",
    "        print(fh.keys())\n",
    "        print(fh[\"foo\"].keys())\n",
    "        print(fh[\"foo/A\"][:])\n",
    "        print(fh[\"df\"][:])"
   ]
  },
  {
   "cell_type": "markdown",
   "id": "crude-crowd",
   "metadata": {},
   "source": [
    "Reading data written by C++ HighFive package (if it exists)"
   ]
  },
  {
   "cell_type": "code",
   "execution_count": null,
   "id": "favorite-surface",
   "metadata": {},
   "outputs": [],
   "source": [
    "fname = \"test_highfive.h5\"\n",
    "if path.isfile(fname):\n",
    "    with h5py.File(fname) as fh:\n",
    "        print(fh[\"path/to/A\"][()])"
   ]
  }
 ],
 "metadata": {
  "language_info": {
   "name": "python",
   "pygments_lexer": "ipython3"
  }
 },
 "nbformat": 4,
 "nbformat_minor": 5
}
