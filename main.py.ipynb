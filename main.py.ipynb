{
 "cells": [
  {
   "cell_type": "markdown",
   "id": "gorgeous-palace",
   "metadata": {},
   "source": [
    "# HDF5\n",
    "\n",
    "This repository is about testing how to work with HDF5 format, within Python, R and C++ programming languages.\n",
    "\n",
    "Documentation on [h5py] and [rhdf5].\n",
    "\n",
    "[h5py]: https://docs.h5py.org/en/stable/quick.html\n",
    "[rhdf5]: https://bioconductor.org/packages/release/bioc/vignettes/rhdf5/inst/doc/rhdf5.html\n",
    "\n",
    "## Requirements\n",
    "\n",
    "To use HighFive library (for reading and writing of HDF5 files in C++) need to install (through `apt` tool in Ubuntu):\n",
    "* libboost-serialization1.71-dev\n",
    "* libboost-system1.71-dev\n",
    "* libboost1.71-dev\n",
    "* libhdf5-dev\n",
    "* hdf5-helpers\n",
    "* hdf5-tools\n"
   ]
  },
  {
   "cell_type": "markdown",
   "id": "c8ddb831",
   "metadata": {},
   "source": [
    "# h5py package (Python)"
   ]
  },
  {
   "cell_type": "code",
   "execution_count": null,
   "id": "working-stations",
   "metadata": {},
   "outputs": [],
   "source": [
    "%load_ext rpy2.ipython\n",
    "import h5py\n",
    "import numpy as np\n",
    "from os import path, makedirs\n",
    "import pandas as pd\n",
    "\n",
    "\n",
    "if not path.isdir(\"Output\"): makedirs(\"Output\")"
   ]
  },
  {
   "cell_type": "markdown",
   "id": "27cf4fd6",
   "metadata": {},
   "source": [
    "Writing to an hfd5 file:"
   ]
  },
  {
   "cell_type": "code",
   "execution_count": null,
   "id": "0c9dc51f",
   "metadata": {},
   "outputs": [],
   "source": [
    "fname = \"Output/h5py_test.h5\"\n",
    "\n",
    "with h5py.File(fname, \"w\") as fh:\n",
    "    fh.create_dataset(\"int\", data=1)\n",
    "    fh.create_dataset(\"string\", data=\"test\")\n",
    "    fh.create_dataset(\"array\", data=[0, 10, 5])\n",
    "    fh.create_dataset(\"strings\", data=[\"hello\", \"world\"])\n",
    "\n",
    "df = pd.DataFrame([[\"a\", 1], [\"b\", 2]], columns=[\"letter\", \"number\"])\n",
    "df.to_hdf(fname, \"df\")\n",
    "df"
   ]
  },
  {
   "cell_type": "markdown",
   "id": "ab051b05",
   "metadata": {},
   "source": [
    "Reading from an hdf5 file:"
   ]
  },
  {
   "cell_type": "code",
   "execution_count": null,
   "id": "42119d33",
   "metadata": {},
   "outputs": [],
   "source": [
    "with h5py.File(fname) as fh:\n",
    "    print(fh.keys())\n",
    "    print(fh[\"int\"][()])\n",
    "    print(fh[\"string\"][()].decode(\"UTF-8\"))\n",
    "    print(fh[\"array\"][:])\n",
    "    print([x.decode(\"UTF-8\") for x in fh[\"strings\"][()]])\n",
    "pd.read_hdf(fname, \"df\")"
   ]
  },
  {
   "cell_type": "markdown",
   "id": "0524303c",
   "metadata": {},
   "source": [
    "**Note**: Pandas dataframes can be saved and read from an hdf5 file, but through pandas' own API, not through h5py."
   ]
  },
  {
   "cell_type": "markdown",
   "id": "decimal-first",
   "metadata": {},
   "source": [
    "# rhdf5 package (R)"
   ]
  },
  {
   "cell_type": "code",
   "execution_count": null,
   "id": "b556cddd",
   "metadata": {},
   "outputs": [],
   "source": [
    "%%R\n",
    "library(rhdf5)"
   ]
  },
  {
   "cell_type": "markdown",
   "id": "aa035a1f",
   "metadata": {},
   "source": [
    "Writing to an hdf5 file:"
   ]
  },
  {
   "cell_type": "code",
   "execution_count": null,
   "id": "7eb41d14",
   "metadata": {},
   "outputs": [],
   "source": [
    "%%R\n",
    "\n",
    "fname <- \"Output/rhdf5_test.h5\"\n",
    "if (file.exists(fname)) { file.remove(fname) } \n",
    "\n",
    "h5createFile(fname)\n",
    "h5write(42, fname, \"int\")\n",
    "h5write(\"test\", fname, \"string\")\n",
    "h5write(c(1.0, 2.0, 5.0), fname, \"vector\")\n",
    "strings <- c(\"hello\", \"world\", \"foofoofoo\", \"barbarbarbar\")\n",
    "h5write(strings, fname, \"strings\")\n",
    "\n",
    "d <- rbind(c(FALSE, TRUE),\n",
    "           c(TRUE, FALSE),\n",
    "           c(TRUE, FALSE))\n",
    "h5write(d, fname, \"rectangular_matrix\")\n",
    "\n",
    "name <- c(\"Jon\", \"Bill\", \"Maria\", \"Ben\", \"Tina\")\n",
    "age <- c(23, 41, 32, 58, 26)\n",
    "df <- data.frame(name, age)\n",
    "h5write(df, fname, \"df\")\n",
    "\n",
    "h5closeAll()"
   ]
  },
  {
   "cell_type": "markdown",
   "id": "777a2db0",
   "metadata": {},
   "source": [
    "Reading from an hdf5 file:"
   ]
  },
  {
   "cell_type": "code",
   "execution_count": null,
   "id": "af27fe8b",
   "metadata": {},
   "outputs": [],
   "source": [
    "%%R\n",
    "\n",
    "fh = H5Fopen(fname)\n",
    "print(fh)\n",
    "print(fh$\"int\")\n",
    "print(fh$\"string\")\n",
    "print(fh$\"vector\")\n",
    "print(fh$\"strings\")\n",
    "print(fh$\"rectangular_matrix\")\n",
    "print(fh$\"df\")\n",
    "h5closeAll()"
   ]
  },
  {
   "cell_type": "markdown",
   "id": "a1d6d882",
   "metadata": {},
   "source": [
    "Data in an hdf5 file created in one language can be read in another language, but we need to be careful, as shown later"
   ]
  },
  {
   "cell_type": "code",
   "execution_count": null,
   "id": "29831365",
   "metadata": {},
   "outputs": [],
   "source": [
    "with h5py.File(\"Output/rhdf5_test.h5\") as fh:\n",
    "    print(fh.keys())\n",
    "    print(fh[\"int\"][0])\n",
    "    print(fh[\"string\"][0].decode(\"UTF-8\"))\n",
    "    print(fh[\"vector\"][:])\n",
    "    print([x.decode(\"UTF-8\") for x in fh[\"strings\"]])\n",
    "    df = pd.DataFrame(np.array(fh[\"df\"]))\n",
    "    df[\"name\"] = df[\"name\"].apply(lambda x : x.decode(\"UTF-8\"))\n",
    "    print(df)"
   ]
  },
  {
   "cell_type": "markdown",
   "id": "5101afbb",
   "metadata": {},
   "source": [
    "**Important**: `rhdf5` package saves matrices transposed, which is explained in `rhdf5` docs [here](https://bioconductor.org/packages/release/bioc/vignettes/rhdf5/inst/doc/rhdf5.html#reading-hdf5-files-with-external-software). If we open matrix D in `rhdf5_test.h5` in Python:"
   ]
  },
  {
   "cell_type": "code",
   "execution_count": null,
   "id": "cf2e98f5",
   "metadata": {},
   "outputs": [],
   "source": [
    "with h5py.File(\"Output/rhdf5_test.h5\") as fh:\n",
    "    print(fh[\"rectangular_matrix\"][:])"
   ]
  },
  {
   "cell_type": "markdown",
   "id": "28474388",
   "metadata": {},
   "source": [
    "The matrix `rectangular_matrix`, when read in Python is transposed and boolean entries have been changed to integers. We can observe the same behaviour when opening a file created by `rhdf5` package within C++. This happens because `rhdf5` \"This is due to the fact the fastest changing dimension on C is the last one, but on R it is the first one (as in Fortran).\" based on `rhdf5` documentation."
   ]
  },
  {
   "cell_type": "code",
   "execution_count": null,
   "id": "9e71afc6",
   "metadata": {},
   "outputs": [],
   "source": [
    "%%R\n",
    "fh = H5Fopen(\"Output/rhdf5_test.h5\")\n",
    "print(fh$\"rectangular_matrix\")\n",
    "h5closeAll()"
   ]
  },
  {
   "cell_type": "markdown",
   "id": "19b30ffc",
   "metadata": {},
   "source": [
    "Lists and vectors from R saved in hdf5 file:"
   ]
  },
  {
   "cell_type": "code",
   "execution_count": null,
   "id": "d4111bd7",
   "metadata": {},
   "outputs": [],
   "source": [
    "%%R \n",
    "\n",
    "fname <- \"Output/rhdf5_test2.h5\"\n",
    "if (file.exists(fname)) { file.remove(fname) } \n",
    "\n",
    "h5createFile(fname)\n",
    "\n",
    "num <- 10\n",
    "a <- rep(1, num)\n",
    "names(a) <- paste0(\"M\", 1:num)\n",
    "print(a)  # names in a vector are not saved into hdf5 format (see below)\n",
    "h5write(a, fname, \"a\")\n",
    "\n",
    "b <- list(M1=1, M2=1)\n",
    "h5write(b, fname, \"b\")\n",
    "\n",
    "num <- 10\n",
    "c <- as.list(rep(1, num))\n",
    "names(c) <- paste0(\"M\", 1:num)\n",
    "h5write(c, fname, \"c\")"
   ]
  },
  {
   "cell_type": "code",
   "execution_count": null,
   "id": "5d333b62",
   "metadata": {},
   "outputs": [],
   "source": [
    "%%R\n",
    "\n",
    "fh = H5Fopen(fname)\n",
    "print(\"a = \")\n",
    "print(fh$\"a\")\n",
    "print(\"b = \")\n",
    "print(fh$\"b\")\n",
    "print(\"c = \")\n",
    "print(fh$\"c\")\n",
    "h5closeAll()"
   ]
  },
  {
   "cell_type": "markdown",
   "id": "26fcf87c",
   "metadata": {},
   "source": [
    "We can also read R's lists and vectors in python with `h5py` module:"
   ]
  },
  {
   "cell_type": "code",
   "execution_count": null,
   "id": "1e136a36",
   "metadata": {},
   "outputs": [],
   "source": [
    "with h5py.File(\"Output/rhdf5_test2.h5\") as fh:\n",
    "    print(fh[\"a\"][:])\n",
    "    print({x: fh[\"b\"][x][0] for x in fh[\"b\"].keys()})\n",
    "    print({x: fh[\"c\"][x][0] for x in fh[\"c\"].keys()})"
   ]
  },
  {
   "cell_type": "markdown",
   "id": "crude-crowd",
   "metadata": {},
   "source": [
    "# HighFive package (C++)\n",
    "\n",
    "Below is the C++ code on how to read and write hdf5 format:"
   ]
  },
  {
   "cell_type": "code",
   "execution_count": null,
   "id": "26ee189b",
   "metadata": {},
   "outputs": [],
   "source": [
    "from IPython.display import Markdown as md\n",
    "\n",
    "with open(\"src/highfive_test.cpp\") as fh:\n",
    "    cpp_file = fh.read()\n",
    "md(f\"```C++\\n{cpp_file}```\")"
   ]
  },
  {
   "cell_type": "markdown",
   "id": "5d7a60dc",
   "metadata": {},
   "source": [
    "We can open `hdf5` files generated in C++, using `HighFive` package, like so:"
   ]
  },
  {
   "cell_type": "code",
   "execution_count": null,
   "id": "49076142",
   "metadata": {},
   "outputs": [],
   "source": [
    "with h5py.File(\"Output/highfive_test.h5\") as fh:\n",
    "    print(fh[\"path/to\"].keys())\n",
    "    print(fh[\"path/to/A\"][()])\n",
    "    print([x.decode(\"UTF-8\") for x in fh[\"path/to/B\"]])"
   ]
  }
 ],
 "metadata": {
  "language_info": {
   "name": "python",
   "pygments_lexer": "ipython3"
  }
 },
 "nbformat": 4,
 "nbformat_minor": 5
}
