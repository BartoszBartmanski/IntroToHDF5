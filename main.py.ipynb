{
 "cells": [
  {
   "cell_type": "markdown",
   "id": "gorgeous-palace",
   "metadata": {},
   "source": [
    "# TestHdf5\n",
    "\n",
    "This repository is about testing how to work with HDF5 format, within Python, R and C++ programming languages.\n",
    "\n",
    "Documentation on [h5py] and [rhdf5].\n",
    "\n",
    "[h5py]: https://docs.h5py.org/en/stable/quick.html\n",
    "[rhdf5]: https://bioconductor.org/packages/release/bioc/vignettes/rhdf5/inst/doc/rhdf5.html\n",
    "\n",
    "## Requirements\n",
    "\n",
    "To use HighFive library (for reading and writing of HDF5 files in C++) need to install (through `apt` tool in Ubuntu):\n",
    "* libboost-serialization1.71-dev\n",
    "* libboost-system1.71-dev\n",
    "* libboost1.71-dev\n",
    "* libhdf5-dev\n",
    "* hdf5-helpers\n",
    "* hdf5-tools\n"
   ]
  },
  {
   "cell_type": "markdown",
   "id": "c8ddb831",
   "metadata": {},
   "source": [
    "# h5py package (Python)"
   ]
  },
  {
   "cell_type": "code",
   "execution_count": null,
   "id": "working-stations",
   "metadata": {},
   "outputs": [],
   "source": [
    "%load_ext rpy2.ipython\n",
    "import h5py\n",
    "import numpy as np"
   ]
  },
  {
   "cell_type": "markdown",
   "id": "ab051b05",
   "metadata": {},
   "source": [
    "We can read the output of `use_h5py.py` script as follows:"
   ]
  },
  {
   "cell_type": "code",
   "execution_count": null,
   "id": "42119d33",
   "metadata": {},
   "outputs": [],
   "source": [
    "with h5py.File(\"Output/h5py_test.h5\") as fh:\n",
    "    print(fh.keys())\n",
    "    print(fh[\"array\"][:])\n",
    "    print(fh[\"int\"][()])\n",
    "    print(fh[\"string\"][()].decode(\"UTF-8\"))\n",
    "    print([x.decode(\"UTF-8\") for x in fh[\"strings\"][()]])"
   ]
  },
  {
   "cell_type": "markdown",
   "id": "decimal-first",
   "metadata": {},
   "source": [
    "# rhdf5 package (R)\n",
    "\n",
    "We can open data saved by `rhdf5` package within Python like so:"
   ]
  },
  {
   "cell_type": "code",
   "execution_count": null,
   "id": "decimal-maple",
   "metadata": {},
   "outputs": [],
   "source": [
    "fname = \"Output/rhdf5_test2.h5\"\n",
    "with h5py.File(fname) as fh:\n",
    "    print(fh.keys())\n",
    "    print(fh[\"foo\"].keys())\n",
    "    print(fh[\"foo/A\"][:])\n",
    "    print(fh[\"df\"][:])"
   ]
  },
  {
   "cell_type": "markdown",
   "id": "a2229261",
   "metadata": {},
   "source": [
    "Or natively in R like so:"
   ]
  },
  {
   "cell_type": "code",
   "execution_count": null,
   "id": "1fbb3d5e",
   "metadata": {},
   "outputs": [],
   "source": [
    "%%R\n",
    "library(rhdf5)\n",
    "\n",
    "fname <- \"Output/rhdf5_test2.h5\"\n",
    "fh = H5Fopen(fname)\n",
    "print(fh)\n",
    "print(fh$\"df\")"
   ]
  },
  {
   "cell_type": "markdown",
   "id": "crude-crowd",
   "metadata": {},
   "source": [
    "# HighFive package (C++)"
   ]
  },
  {
   "cell_type": "code",
   "execution_count": null,
   "id": "49076142",
   "metadata": {},
   "outputs": [],
   "source": [
    "with h5py.File(\"Output/highfive_test.h5\") as fh:\n",
    "    print(fh[\"path/to\"].keys())\n",
    "    print(fh[\"path/to/A\"][()])\n",
    "    print([x.decode(\"UTF-8\") for x in fh[\"path/to/B\"]])"
   ]
  }
 ],
 "metadata": {
  "language_info": {
   "name": "python",
   "pygments_lexer": "ipython3"
  }
 },
 "nbformat": 4,
 "nbformat_minor": 5
}
