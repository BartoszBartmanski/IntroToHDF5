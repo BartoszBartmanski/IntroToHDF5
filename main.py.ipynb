{
 "cells": [
  {
   "cell_type": "markdown",
   "id": "gorgeous-palace",
   "metadata": {},
   "source": [
    "# HDF5\n",
    "\n",
    "This repository is about testing how to work with HDF5 format, within Python, R and C++ programming languages.\n",
    "\n",
    "Documentation on [h5py] and [rhdf5].\n",
    "\n",
    "[h5py]: https://docs.h5py.org/en/stable/quick.html\n",
    "[rhdf5]: https://bioconductor.org/packages/release/bioc/vignettes/rhdf5/inst/doc/rhdf5.html\n",
    "\n",
    "## Requirements\n",
    "\n",
    "To use HighFive library (for reading and writing of HDF5 files in C++) need to install (through `apt` tool in Ubuntu):\n",
    "* libboost-serialization1.71-dev\n",
    "* libboost-system1.71-dev\n",
    "* libboost1.71-dev\n",
    "* libhdf5-dev\n",
    "* hdf5-helpers\n",
    "* hdf5-tools\n"
   ]
  },
  {
   "cell_type": "markdown",
   "id": "c8ddb831",
   "metadata": {},
   "source": [
    "# h5py package (Python)"
   ]
  },
  {
   "cell_type": "code",
   "execution_count": null,
   "id": "working-stations",
   "metadata": {},
   "outputs": [],
   "source": [
    "%load_ext rpy2.ipython\n",
    "import h5py\n",
    "import numpy as np"
   ]
  },
  {
   "cell_type": "markdown",
   "id": "ab051b05",
   "metadata": {},
   "source": [
    "We can read the output of `use_h5py.py` script as follows:"
   ]
  },
  {
   "cell_type": "code",
   "execution_count": null,
   "id": "42119d33",
   "metadata": {},
   "outputs": [],
   "source": [
    "with h5py.File(\"Output/h5py_test.h5\") as fh:\n",
    "    print(fh.keys())\n",
    "    print(fh[\"array\"][:])\n",
    "    print(fh[\"int\"][()])\n",
    "    print(fh[\"string\"][()].decode(\"UTF-8\"))\n",
    "    print([x.decode(\"UTF-8\") for x in fh[\"strings\"][()]])"
   ]
  },
  {
   "cell_type": "markdown",
   "id": "decimal-first",
   "metadata": {},
   "source": [
    "# rhdf5 package (R)\n",
    "\n",
    "We can open data saved by `rhdf5` package within Python like so:"
   ]
  },
  {
   "cell_type": "code",
   "execution_count": null,
   "id": "c109b087",
   "metadata": {},
   "outputs": [],
   "source": [
    "fname = \"Output/rhdf5_test1.h5\"\n",
    "with h5py.File(fname) as fh:\n",
    "    print(fh.keys())\n",
    "    print(*[(x, fh[x][()]) for x in fh], sep=\"\\n\")"
   ]
  },
  {
   "cell_type": "code",
   "execution_count": null,
   "id": "decimal-maple",
   "metadata": {},
   "outputs": [],
   "source": [
    "fname = \"Output/rhdf5_test2.h5\"\n",
    "with h5py.File(fname) as fh:\n",
    "    print(fh.keys())\n",
    "    print(fh[\"foo\"].keys())\n",
    "    print(fh[\"foo/A\"][:])\n",
    "    print(fh[\"df\"][:])"
   ]
  },
  {
   "cell_type": "markdown",
   "id": "a2229261",
   "metadata": {},
   "source": [
    "Or natively in R like so:"
   ]
  },
  {
   "cell_type": "code",
   "execution_count": null,
   "id": "1fbb3d5e",
   "metadata": {},
   "outputs": [],
   "source": [
    "%%R\n",
    "library(rhdf5)\n",
    "\n",
    "fname <- \"Output/rhdf5_test2.h5\"\n",
    "fh = H5Fopen(fname)\n",
    "print(fh)\n",
    "print(fh$\"df\")\n",
    "h5closeAll()"
   ]
  },
  {
   "cell_type": "markdown",
   "id": "5101afbb",
   "metadata": {},
   "source": [
    "**Important**: `rhdf5` package saves matrices transposed, which is explained in `rhdf5` docs [here](https://bioconductor.org/packages/release/bioc/vignettes/rhdf5/inst/doc/rhdf5.html#reading-hdf5-files-with-external-software). If we open matrix D in `rhdf5_test1.h5` in Python:"
   ]
  },
  {
   "cell_type": "code",
   "execution_count": null,
   "id": "cf2e98f5",
   "metadata": {},
   "outputs": [],
   "source": [
    "with h5py.File(\"Output/rhdf5_test1.h5\") as fh:\n",
    "    print(fh[\"D\"][:])"
   ]
  },
  {
   "cell_type": "markdown",
   "id": "28474388",
   "metadata": {},
   "source": [
    "And in R:"
   ]
  },
  {
   "cell_type": "code",
   "execution_count": null,
   "id": "9e71afc6",
   "metadata": {},
   "outputs": [],
   "source": [
    "%%R\n",
    "fh = H5Fopen(\"Output/rhdf5_test1.h5\")\n",
    "print(fh$\"D\")\n",
    "h5closeAll()"
   ]
  },
  {
   "cell_type": "markdown",
   "id": "bb39f13a",
   "metadata": {},
   "source": [
    "The matrix D, when read in Python is transposed and boolean entries have been changed to integers. We can observe the same behaviour when opening a file created by `rhdf5` package within C++. This happens because `rhdf5` \"This is due to the fact the fastest changing dimension on C is the last one, but on R it is the first one (as in Fortran).\" based on `rhdf5` documentation."
   ]
  },
  {
   "cell_type": "markdown",
   "id": "crude-crowd",
   "metadata": {},
   "source": [
    "# HighFive package (C++)\n",
    "\n",
    "Below is the C++ code on how to read and write hdf5 format:"
   ]
  },
  {
   "cell_type": "code",
   "execution_count": null,
   "id": "26ee189b",
   "metadata": {},
   "outputs": [],
   "source": [
    "from IPython.display import Markdown as md\n",
    "\n",
    "with open(\"src/highfive_test.cpp\") as fh:\n",
    "    cpp_file = fh.read()\n",
    "md(f\"```C++\\n{cpp_file}```\")"
   ]
  },
  {
   "cell_type": "markdown",
   "id": "5d7a60dc",
   "metadata": {},
   "source": [
    "We can open `hdf5` files generated in C++, using `HighFive` package, like so:"
   ]
  },
  {
   "cell_type": "code",
   "execution_count": null,
   "id": "49076142",
   "metadata": {},
   "outputs": [],
   "source": [
    "with h5py.File(\"Output/highfive_test.h5\") as fh:\n",
    "    print(fh[\"path/to\"].keys())\n",
    "    print(fh[\"path/to/A\"][()])\n",
    "    print([x.decode(\"UTF-8\") for x in fh[\"path/to/B\"]])"
   ]
  }
 ],
 "metadata": {
  "language_info": {
   "name": "python",
   "pygments_lexer": "ipython3"
  }
 },
 "nbformat": 4,
 "nbformat_minor": 5
}
