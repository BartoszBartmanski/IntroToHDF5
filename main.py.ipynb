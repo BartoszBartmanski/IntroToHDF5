{
 "cells": [
  {
   "cell_type": "markdown",
   "id": "",
   "metadata": {},
   "source": [
    "Documentation on h5py [here](https://docs.h5py.org/en/stable/quick.html)"
   ]
  },
  {
   "cell_type": "code",
   "execution_count": null,
   "id": "",
   "metadata": {},
   "outputs": [],
   "source": [
    "import h5py\n",
    "import numpy as np\n",
    "from os import path"
   ]
  },
  {
   "cell_type": "markdown",
   "id": "",
   "metadata": {},
   "source": [
    "Writing to a file"
   ]
  },
  {
   "cell_type": "code",
   "execution_count": null,
   "id": "",
   "metadata": {},
   "outputs": [],
   "source": [
    "with h5py.File(\"mytestfile.hdf5\", \"w\") as fh:\n",
    "    dset = fh.create_dataset(\"mydataset\", (100,), dtype='i')"
   ]
  },
  {
   "cell_type": "markdown",
   "id": "",
   "metadata": {},
   "source": [
    "Reading from a file"
   ]
  },
  {
   "cell_type": "code",
   "execution_count": null,
   "id": "",
   "metadata": {},
   "outputs": [],
   "source": [
    "with h5py.File(\"mytestfile.hdf5\", \"r\") as fh:\n",
    "    print(fh[\"mydataset\"][:])"
   ]
  },
  {
   "cell_type": "markdown",
   "id": "",
   "metadata": {},
   "source": [
    "Reading data written by R hdf5 package"
   ]
  },
  {
   "cell_type": "code",
   "execution_count": null,
   "id": "",
   "metadata": {},
   "outputs": [],
   "source": [
    "if path.isfile(\"myhdf5file.h5\"):\n",
    "    with h5py.File(\"myhdf5file.h5\") as fh:\n",
    "        print(fh.keys())"
   ]
  },
  {
   "cell_type": "code",
   "execution_count": null,
   "id": "",
   "metadata": {},
   "outputs": [],
   "source": [
    "if path.isfile(\"myhdf5file.h5\"):\n",
    "    with h5py.File(\"myhdf5file.h5\") as fh:\n",
    "        print(fh[\"foo\"].keys())\n",
    "        print(fh[\"foo/A\"][:])\n",
    "        print(fh[\"df\"][:])"
   ]
  },
  {
   "cell_type": "code",
   "execution_count": null,
   "id": "",
   "metadata": {},
   "outputs": [],
   "source": [
    "if path.isfile(\"build/Select.h5\"):\n",
    "    with h5py.File(\"build/Select.h5\") as fh:\n",
    "        print(fh[\"Matrix in file\"][:])"
   ]
  }
 ],
 "metadata": {
  "language_info": {
   "name": "python",
   "pygments_lexer": "ipython3"
  }
 },
 "nbformat": 4,
 "nbformat_minor": 5
}
