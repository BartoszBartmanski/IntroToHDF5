{
 "cells": [
  {
   "cell_type": "code",
   "execution_count": null,
   "id": "cooperative-iceland",
   "metadata": {},
   "outputs": [],
   "source": [
    "import h5py\n",
    "import numpy as np\n",
    "import pandas as pd"
   ]
  },
  {
   "cell_type": "code",
   "execution_count": null,
   "id": "bottom-biodiversity",
   "metadata": {},
   "outputs": [],
   "source": [
    "fh = h5py.File(\"Output/rhdf5_test3.h5\")\n",
    "df = pd.DataFrame(np.array(fh[\"df\"]))\n",
    "df[\"Name\"] = df[\"Name\"].apply(lambda x : x.decode(\"UTF-8\"))\n",
    "a = fh[\"a\"][:]\n",
    "b = {x: fh[\"b\"][x][0] for x in fh[\"b\"].keys()}\n",
    "fh.close()"
   ]
  },
  {
   "cell_type": "code",
   "execution_count": null,
   "id": "vocal-wisconsin",
   "metadata": {},
   "outputs": [],
   "source": [
    "df"
   ]
  },
  {
   "cell_type": "code",
   "execution_count": null,
   "id": "crazy-catalog",
   "metadata": {},
   "outputs": [],
   "source": [
    "a"
   ]
  },
  {
   "cell_type": "code",
   "execution_count": null,
   "id": "understanding-partnership",
   "metadata": {},
   "outputs": [],
   "source": [
    "b"
   ]
  }
 ],
 "metadata": {
  "language_info": {
   "name": "python",
   "pygments_lexer": "ipython3"
  }
 },
 "nbformat": 4,
 "nbformat_minor": 5
}
