{
 "cells": [
  {
   "cell_type": "code",
   "execution_count": null,
   "id": "removable-stanley",
   "metadata": {},
   "outputs": [],
   "source": [
    "library(rhdf5)"
   ]
  },
  {
   "cell_type": "code",
   "execution_count": null,
   "id": "ongoing-exemption",
   "metadata": {},
   "outputs": [],
   "source": [
    "dir.create(\"Output\", showWarnings=F)\n",
    "filename <- \"Output/rhdf5_test3.h5\"\n",
    "Name <- c(\"Victoria\", \"Bartosz\", \"Gianni\")\n",
    "Age <- c(31, 28, 30)\n",
    "df <- data.frame(Name, Age)\n",
    "df"
   ]
  },
  {
   "cell_type": "code",
   "execution_count": null,
   "id": "requested-kitchen",
   "metadata": {},
   "outputs": [],
   "source": [
    "num <- 10\n",
    "a <- rep(1, num)\n",
    "names(a) <- paste0(\"M\", 1:num)\n",
    "a"
   ]
  },
  {
   "cell_type": "code",
   "execution_count": null,
   "id": "equivalent-dallas",
   "metadata": {},
   "outputs": [],
   "source": [
    "b <- list(M1=1, M2=1)\n",
    "b"
   ]
  },
  {
   "cell_type": "code",
   "execution_count": null,
   "id": "integral-speaker",
   "metadata": {},
   "outputs": [],
   "source": [
    "num <- 10\n",
    "c <- as.list(rep(1, num))\n",
    "names(c) <- paste0(\"M\", 1:num)\n",
    "c"
   ]
  },
  {
   "cell_type": "code",
   "execution_count": null,
   "id": "demanding-north",
   "metadata": {},
   "outputs": [],
   "source": [
    "file.remove(filename)\n",
    "h5createFile(filename)\n",
    "h5write(df, filename, \"df\")\n",
    "h5write(a, filename, \"a\")\n",
    "h5write(b, filename, \"b\")\n",
    "h5write(c, filename, \"c\")\n",
    "h5closeAll()"
   ]
  },
  {
   "cell_type": "code",
   "execution_count": null,
   "id": "interested-copying",
   "metadata": {},
   "outputs": [],
   "source": [
    "h5read(filename, \"df\")"
   ]
  },
  {
   "cell_type": "code",
   "execution_count": null,
   "id": "chinese-beaver",
   "metadata": {},
   "outputs": [],
   "source": [
    "h5read(filename, \"a\")"
   ]
  },
  {
   "cell_type": "code",
   "execution_count": null,
   "id": "minute-victory",
   "metadata": {},
   "outputs": [],
   "source": [
    "h5read(filename, \"b\")"
   ]
  },
  {
   "cell_type": "code",
   "execution_count": null,
   "id": "subjective-stationery",
   "metadata": {},
   "outputs": [],
   "source": [
    "h5read(filename, \"c\")"
   ]
  }
 ],
 "metadata": {
  "language_info": {
   "name": "python",
   "pygments_lexer": "ipython3"
  }
 },
 "nbformat": 4,
 "nbformat_minor": 5
}
