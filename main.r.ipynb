{
 "cells": [
  {
   "cell_type": "markdown",
   "id": "imposed-concept",
   "metadata": {},
   "source": [
    "# File formats"
   ]
  },
  {
   "cell_type": "markdown",
   "id": "regulation-lending",
   "metadata": {},
   "source": [
    "## HDF5\n",
    "\n",
    "[rhdf5](https://bioconductor.org/packages/release/bioc/vignettes/rhdf5/inst/doc/rhdf5.html) package available through bioconductor allows for reading and writing of HDF5 files."
   ]
  },
  {
   "cell_type": "code",
   "execution_count": null,
   "id": "concerned-mission",
   "metadata": {},
   "outputs": [],
   "source": [
    "library(rhdf5)"
   ]
  },
  {
   "cell_type": "markdown",
   "id": "social-buddy",
   "metadata": {},
   "source": [
    "Writing to a file"
   ]
  },
  {
   "cell_type": "code",
   "execution_count": null,
   "id": "bizarre-waste",
   "metadata": {},
   "outputs": [],
   "source": [
    "fname <- \"test_rhdf5.h5\"\n",
    "file.remove(fname)\n",
    "h5createFile(fname)\n",
    "h5createGroup(fname,\"foo\")\n",
    "h5createGroup(fname,\"baa\")\n",
    "h5createGroup(fname,\"foo/foobaa\")\n",
    "h5ls(fname)"
   ]
  },
  {
   "cell_type": "code",
   "execution_count": null,
   "id": "jewish-surge",
   "metadata": {},
   "outputs": [],
   "source": [
    "A = matrix(1:10,nr=5,nc=2)\n",
    "h5write(A, fname,\"foo/A\")\n",
    "\n",
    "B = array(seq(0.1,2.0,by=0.1),dim=c(5,2,2))\n",
    "attr(B, \"scale\") <- \"liter\"\n",
    "h5write(B, fname,\"foo/B\")\n",
    "\n",
    "C = matrix(paste(LETTERS[1:10],LETTERS[11:20], collapse=\"\"), nr=2,nc=5)\n",
    "h5write(C, fname,\"foo/foobaa/C\")\n",
    "\n",
    "df = data.frame(1L:5L,seq(0,1,length.out=5),\n",
    "  c(\"ab\",\"cde\",\"fghi\",\"a\",\"s\"), stringsAsFactors=FALSE)\n",
    "h5write(df, fname,\"df\")\n",
    "h5ls(fname)"
   ]
  },
  {
   "cell_type": "markdown",
   "id": "worldwide-chrome",
   "metadata": {},
   "source": [
    "Reading from a file"
   ]
  },
  {
   "cell_type": "code",
   "execution_count": null,
   "id": "brilliant-geology",
   "metadata": {},
   "outputs": [],
   "source": [
    "h5f = H5Fopen(\"test_rhdf5.h5\")\n",
    "h5f"
   ]
  },
  {
   "cell_type": "code",
   "execution_count": null,
   "id": "relative-auction",
   "metadata": {},
   "outputs": [],
   "source": [
    "h5f$\"df\""
   ]
  },
  {
   "cell_type": "markdown",
   "id": "acquired-investigation",
   "metadata": {},
   "source": [
    "The above should be identical to the dataframe found below"
   ]
  },
  {
   "cell_type": "code",
   "execution_count": null,
   "id": "brown-hawaii",
   "metadata": {},
   "outputs": [],
   "source": [
    "df"
   ]
  },
  {
   "cell_type": "code",
   "execution_count": null,
   "id": "posted-sharing",
   "metadata": {},
   "outputs": [],
   "source": [
    "h5closeAll()"
   ]
  }
 ],
 "metadata": {
  "language_info": {
   "name": "python",
   "pygments_lexer": "ipython3"
  }
 },
 "nbformat": 4,
 "nbformat_minor": 5
}
