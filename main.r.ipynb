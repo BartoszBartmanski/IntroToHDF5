{
 "cells": [
  {
   "cell_type": "markdown",
   "id": "",
   "metadata": {},
   "source": [
    "# File formats"
   ]
  },
  {
   "cell_type": "markdown",
   "id": "",
   "metadata": {},
   "source": [
    "## HDF5\n",
    "\n",
    "[rhdf5](https://bioconductor.org/packages/release/bioc/vignettes/rhdf5/inst/doc/rhdf5.html) package available through bioconductor allows for reading and writing of HDF5 files."
   ]
  },
  {
   "cell_type": "code",
   "execution_count": null,
   "id": "",
   "metadata": {},
   "outputs": [],
   "source": [
    "library(rhdf5)"
   ]
  },
  {
   "cell_type": "markdown",
   "id": "",
   "metadata": {},
   "source": [
    "Writing to a file"
   ]
  },
  {
   "cell_type": "code",
   "execution_count": null,
   "id": "",
   "metadata": {},
   "outputs": [],
   "source": [
    "h5createFile(\"myhdf5file.h5\")\n",
    "h5createGroup(\"myhdf5file.h5\",\"foo\")\n",
    "h5createGroup(\"myhdf5file.h5\",\"baa\")\n",
    "h5createGroup(\"myhdf5file.h5\",\"foo/foobaa\")\n",
    "h5ls(\"myhdf5file.h5\")"
   ]
  },
  {
   "cell_type": "code",
   "execution_count": null,
   "id": "",
   "metadata": {},
   "outputs": [],
   "source": [
    "A = matrix(1:10,nr=5,nc=2)\n",
    "h5write(A, \"myhdf5file.h5\",\"foo/A\")\n",
    "\n",
    "B = array(seq(0.1,2.0,by=0.1),dim=c(5,2,2))\n",
    "attr(B, \"scale\") <- \"liter\"\n",
    "h5write(B, \"myhdf5file.h5\",\"foo/B\")\n",
    "\n",
    "C = matrix(paste(LETTERS[1:10],LETTERS[11:20], collapse=\"\"), nr=2,nc=5)\n",
    "h5write(C, \"myhdf5file.h5\",\"foo/foobaa/C\")\n",
    "\n",
    "df = data.frame(1L:5L,seq(0,1,length.out=5),\n",
    "  c(\"ab\",\"cde\",\"fghi\",\"a\",\"s\"), stringsAsFactors=FALSE)\n",
    "h5write(df, \"myhdf5file.h5\",\"df\")\n",
    "h5ls(\"myhdf5file.h5\")"
   ]
  },
  {
   "cell_type": "markdown",
   "id": "",
   "metadata": {},
   "source": [
    "Reading from a file"
   ]
  },
  {
   "cell_type": "code",
   "execution_count": null,
   "id": "",
   "metadata": {},
   "outputs": [],
   "source": [
    "h5f = H5Fopen(\"myhdf5file.h5\")\n",
    "h5f"
   ]
  },
  {
   "cell_type": "code",
   "execution_count": null,
   "id": "",
   "metadata": {},
   "outputs": [],
   "source": [
    "h5f$df"
   ]
  },
  {
   "cell_type": "code",
   "execution_count": null,
   "id": "",
   "metadata": {},
   "outputs": [],
   "source": [
    "h5f&'df'"
   ]
  }
 ],
 "metadata": {
  "language_info": {
   "name": "python",
   "pygments_lexer": "ipython3"
  }
 },
 "nbformat": 4,
 "nbformat_minor": 5
}
