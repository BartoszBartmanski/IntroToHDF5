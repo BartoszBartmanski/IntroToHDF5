{
 "cells": [
  {
   "cell_type": "markdown",
   "id": "brown-career",
   "metadata": {},
   "source": [
    "# File formats"
   ]
  },
  {
   "cell_type": "markdown",
   "id": "organic-section",
   "metadata": {},
   "source": [
    "## HDF5\n",
    "\n",
    "[rhdf5](https://bioconductor.org/packages/release/bioc/vignettes/rhdf5/inst/doc/rhdf5.html) package available through bioconductor allows for reading and writing of HDF5 files."
   ]
  },
  {
   "cell_type": "code",
   "execution_count": null,
   "id": "human-associate",
   "metadata": {},
   "outputs": [],
   "source": [
    "library(rhdf5)"
   ]
  },
  {
   "cell_type": "markdown",
   "id": "ambient-aquarium",
   "metadata": {},
   "source": [
    "Writing to a file"
   ]
  },
  {
   "cell_type": "code",
   "execution_count": null,
   "id": "closing-party",
   "metadata": {},
   "outputs": [],
   "source": [
    "h5createFile(\"test_rhdf5.h5\")\n",
    "h5createGroup(\"test_rhdf5.h5\",\"foo\")\n",
    "h5createGroup(\"test_rhdf5.h5\",\"baa\")\n",
    "h5createGroup(\"test_rhdf5.h5\",\"foo/foobaa\")\n",
    "h5ls(\"test_rhdf5.h5\")"
   ]
  },
  {
   "cell_type": "code",
   "execution_count": null,
   "id": "australian-yugoslavia",
   "metadata": {},
   "outputs": [],
   "source": [
    "A = matrix(1:10,nr=5,nc=2)\n",
    "h5write(A, \"test_rhdf5.h5\",\"foo/A\")\n",
    "\n",
    "B = array(seq(0.1,2.0,by=0.1),dim=c(5,2,2))\n",
    "attr(B, \"scale\") <- \"liter\"\n",
    "h5write(B, \"test_rhdf5.h5\",\"foo/B\")\n",
    "\n",
    "C = matrix(paste(LETTERS[1:10],LETTERS[11:20], collapse=\"\"), nr=2,nc=5)\n",
    "h5write(C, \"test_rhdf5.h5\",\"foo/foobaa/C\")\n",
    "\n",
    "df = data.frame(1L:5L,seq(0,1,length.out=5),\n",
    "  c(\"ab\",\"cde\",\"fghi\",\"a\",\"s\"), stringsAsFactors=FALSE)\n",
    "h5write(df, \"test_rhdf5.h5\",\"df\")\n",
    "h5ls(\"test_rhdf5.h5\")"
   ]
  },
  {
   "cell_type": "markdown",
   "id": "august-karma",
   "metadata": {},
   "source": [
    "Reading from a file"
   ]
  },
  {
   "cell_type": "code",
   "execution_count": null,
   "id": "electoral-composite",
   "metadata": {},
   "outputs": [],
   "source": [
    "h5f = H5Fopen(\"test_rhdf5.h5\")\n",
    "h5f"
   ]
  },
  {
   "cell_type": "code",
   "execution_count": null,
   "id": "cross-eating",
   "metadata": {},
   "outputs": [],
   "source": [
    "h5f$df"
   ]
  },
  {
   "cell_type": "code",
   "execution_count": null,
   "id": "killing-division",
   "metadata": {},
   "outputs": [],
   "source": [
    "h5f&'df'"
   ]
  }
 ],
 "metadata": {
  "language_info": {
   "name": "python",
   "pygments_lexer": "ipython3"
  }
 },
 "nbformat": 4,
 "nbformat_minor": 5
}
